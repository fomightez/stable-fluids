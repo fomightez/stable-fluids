{
 "cells": [
  {
   "cell_type": "markdown",
   "metadata": {},
   "source": [
    "# n-D stable fluids\n",
    "An adaptation of Jos Stam's stable fluids to Python/NumPy by [Gregory Johnson](https://github.com/GregTJ).\n",
    "\n",
    "I have forked it and 'binderized' it to work via MyBinder.org and hacked around some. See the original [here](https://github.com/GregTJ/stable-fluids).\n",
    "\n",
    "\n",
    "----\n",
    "\n"
   ]
  },
  {
   "cell_type": "code",
   "execution_count": 1,
   "metadata": {},
   "outputs": [],
   "source": [
    "# make a place to store the frames that are produced\n",
    "import os\n",
    "import sys\n",
    "frame_dir = 'frames'\n",
    "if not os.path.isdir(frame_dir):\n",
    "    !mkdir {frame_dir}"
   ]
  },
  {
   "cell_type": "code",
   "execution_count": 4,
   "metadata": {},
   "outputs": [],
   "source": [
    "#substitute the storage path in the `test.py` file\n",
    "import os\n",
    "import sys\n",
    "with open(\"test.py\", 'r') as f:\n",
    "    content = f.read()\n",
    "    if 'placeholder' in content:\n",
    "        content = content.replace('placeholder',f'{frame_dir}/')\n",
    "        %store content >test.py"
   ]
  },
  {
   "cell_type": "code",
   "execution_count": 5,
   "metadata": {},
   "outputs": [
    {
     "name": "stdout",
     "output_type": "stream",
     "text": [
      "Computing frame 0.\n",
      "Computing frame 1.\n"
     ]
    }
   ],
   "source": [
    "%run test.py"
   ]
  },
  {
   "cell_type": "code",
   "execution_count": null,
   "metadata": {},
   "outputs": [],
   "source": []
  }
 ],
 "metadata": {
  "kernelspec": {
   "display_name": "Python 3",
   "language": "python",
   "name": "python3"
  },
  "language_info": {
   "codemirror_mode": {
    "name": "ipython",
    "version": 3
   },
   "file_extension": ".py",
   "mimetype": "text/x-python",
   "name": "python",
   "nbconvert_exporter": "python",
   "pygments_lexer": "ipython3",
   "version": "3.7.6"
  }
 },
 "nbformat": 4,
 "nbformat_minor": 2
}
